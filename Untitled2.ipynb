{
 "cells": [
  {
   "cell_type": "code",
   "execution_count": 1,
   "id": "2e126c25",
   "metadata": {},
   "outputs": [],
   "source": [
    "from ipyleaflet import Map, Circle"
   ]
  },
  {
   "cell_type": "code",
   "execution_count": 2,
   "id": "6f062ade",
   "metadata": {},
   "outputs": [],
   "source": [
    "paris=[48.866667,2.333333]\n",
    "m=Map(center=paris, zoom=10)"
   ]
  },
  {
   "cell_type": "code",
   "execution_count": 3,
   "id": "eb387110",
   "metadata": {},
   "outputs": [],
   "source": [
    "circle = Circle()\n",
    "circle.location = paris\n",
    "circle.radius = 10000\n",
    "circle.color = \"yellow\"\n",
    "circle.fill_color = \"yellow\""
   ]
  },
  {
   "cell_type": "code",
   "execution_count": 4,
   "id": "e27e012a",
   "metadata": {},
   "outputs": [
    {
     "data": {
      "application/vnd.jupyter.widget-view+json": {
       "model_id": "3bc0f343d9b24f35a3d9a920d331691b",
       "version_major": 2,
       "version_minor": 0
      },
      "text/plain": [
       "Map(center=[48.866667, 2.333333], controls=(ZoomControl(options=['position', 'zoom_in_text', 'zoom_in_title', …"
      ]
     },
     "metadata": {},
     "output_type": "display_data"
    }
   ],
   "source": [
    "m.add_layer(circle)\n",
    "m"
   ]
  },
  {
   "cell_type": "code",
   "execution_count": null,
   "id": "44583dcc",
   "metadata": {},
   "outputs": [],
   "source": []
  }
 ],
 "metadata": {
  "kernelspec": {
   "display_name": "Python 3 (ipykernel)",
   "language": "python",
   "name": "python3"
  },
  "language_info": {
   "codemirror_mode": {
    "name": "ipython",
    "version": 3
   },
   "file_extension": ".py",
   "mimetype": "text/x-python",
   "name": "python",
   "nbconvert_exporter": "python",
   "pygments_lexer": "ipython3",
   "version": "3.9.12"
  }
 },
 "nbformat": 4,
 "nbformat_minor": 5
}
